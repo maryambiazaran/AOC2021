{
 "cells": [
  {
   "cell_type": "code",
   "execution_count": 55,
   "metadata": {
    "scrolled": true
   },
   "outputs": [],
   "source": [
    "import requests,configparser\n",
    "def get_cookie():\n",
    "    config = configparser.ConfigParser()\n",
    "    config.read('secrets.txt')\n",
    "    cookie = config['session_info']['cookie']\n",
    "    return cookie\n",
    "def get_inputs(day):\n",
    "    cookie, day = get_cookie(), int(day)\n",
    "    headers = {'session': cookie}\n",
    "    url = f'https://adventofcode.com/2021/day/{day}/input'\n",
    "    session = requests.Session()\n",
    "    resp = session.get(url,cookies=headers)\n",
    "    return resp.text.split('\\n')"
   ]
  },
  {
   "cell_type": "code",
   "execution_count": 62,
   "metadata": {
    "scrolled": false
   },
   "outputs": [
    {
     "name": "stdout",
     "output_type": "stream",
     "text": [
      "Part 1: 1482\n",
      "Part 2: 1518\n"
     ]
    }
   ],
   "source": [
    "# DAY1\n",
    "def count_increases(data,depth):\n",
    "    increases = 0\n",
    "    for i in range(depth,len(data)):\n",
    "        increases += 1 if data[i]>data[i-depth] else 0\n",
    "    return increases\n",
    "\n",
    "data_day1 = [int(x) for x in get_inputs(1) if x!='']\n",
    "print(f'Part 1: {count_increases(data_day1,1)}')\n",
    "print(f'Part 2: {count_increases(data_day1,3)}')"
   ]
  }
 ],
 "metadata": {
  "kernelspec": {
   "display_name": "Python 3",
   "language": "python",
   "name": "python3"
  },
  "language_info": {
   "codemirror_mode": {
    "name": "ipython",
    "version": 3
   },
   "file_extension": ".py",
   "mimetype": "text/x-python",
   "name": "python",
   "nbconvert_exporter": "python",
   "pygments_lexer": "ipython3",
   "version": "3.8.5"
  }
 },
 "nbformat": 4,
 "nbformat_minor": 4
}
