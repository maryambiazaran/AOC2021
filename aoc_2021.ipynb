{
 "cells": [
  {
   "cell_type": "code",
   "execution_count": 110,
   "metadata": {
    "scrolled": true
   },
   "outputs": [],
   "source": [
    "import requests,configparser\n",
    "def get_cookie():\n",
    "    config = configparser.ConfigParser()\n",
    "    config.read('secrets.txt')\n",
    "    cookie = config['session_info']['cookie']\n",
    "    return cookie\n",
    "def get_inputs(day):\n",
    "    cookie, day = get_cookie(), int(day)\n",
    "    headers = {'session': cookie}\n",
    "    url = f'https://adventofcode.com/2021/day/{day}/input'\n",
    "    session = requests.Session()\n",
    "    resp = session.get(url,cookies=headers)\n",
    "    return resp.text.split('\\n')[:-1]"
   ]
  },
  {
   "cell_type": "code",
   "execution_count": 111,
   "metadata": {
    "scrolled": false
   },
   "outputs": [
    {
     "name": "stdout",
     "output_type": "stream",
     "text": [
      "Part 1: 1482\n",
      "Part 2: 1518\n"
     ]
    }
   ],
   "source": [
    "# DAY1\n",
    "def count_increases(data,depth):\n",
    "    increases = 0\n",
    "    for i in range(depth,len(data)):\n",
    "        increases += 1 if data[i]>data[i-depth] else 0\n",
    "    return increases\n",
    "\n",
    "data_day1 = [int(x) for x in get_inputs(1) if x!='']\n",
    "print(f'Part 1: {count_increases(data_day1,1)}')\n",
    "print(f'Part 2: {count_increases(data_day1,3)}')"
   ]
  },
  {
   "cell_type": "code",
   "execution_count": 112,
   "metadata": {},
   "outputs": [
    {
     "name": "stdout",
     "output_type": "stream",
     "text": [
      "1938402\n",
      "1947878632\n"
     ]
    }
   ],
   "source": [
    "# DAY2\n",
    "class Submarine():\n",
    "    def __init__(self,h_pos,depth,has_aim=False,aim=0):\n",
    "        self.h_pos = h_pos\n",
    "        self.depth = depth\n",
    "        self.has_aim = has_aim\n",
    "        self.aim = aim\n",
    "    def forward(self,x):\n",
    "        self.h_pos += int(x)\n",
    "        self.depth += int(x)*self.aim\n",
    "    def down(self,x):\n",
    "        if self.has_aim:\n",
    "            self.aim += int(x)\n",
    "        else:\n",
    "            self.depth += int(x)\n",
    "    def up(self,x):\n",
    "        if self.has_aim:\n",
    "            self.aim -= int(x)\n",
    "        else:\n",
    "            self.depth -= int(x)\n",
    "    def take_command(self,command):\n",
    "        command_map = {'up': self.up, 'down':self.down, 'forward':self.forward}\n",
    "        directions = command.split(' ')    # e.g. direction = ['forward','2']\n",
    "        move_method = command_map.get(directions[0])\n",
    "        move_method(directions[1])\n",
    "    def get_position(self):\n",
    "        return (self.h_pos,self.depth)\n",
    "    def navigate(self,data):\n",
    "        for command in data:\n",
    "            self.take_command(command)\n",
    "        return self\n",
    "    def get_pos_multip(self):\n",
    "        print( self.h_pos*self.depth )\n",
    "\n",
    "data_day2 = get_inputs(2)\n",
    "d2p1 = Submarine(0,0)\n",
    "d2p1.navigate(data_day2).get_pos_multip()\n",
    "\n",
    "d2p2 = Submarine(0,0,True,0)\n",
    "d2p2.navigate(data_day2).get_pos_multip()"
   ]
  },
  {
   "cell_type": "code",
   "execution_count": null,
   "metadata": {},
   "outputs": [],
   "source": []
  }
 ],
 "metadata": {
  "kernelspec": {
   "display_name": "Python 3",
   "language": "python",
   "name": "python3"
  },
  "language_info": {
   "codemirror_mode": {
    "name": "ipython",
    "version": 3
   },
   "file_extension": ".py",
   "mimetype": "text/x-python",
   "name": "python",
   "nbconvert_exporter": "python",
   "pygments_lexer": "ipython3",
   "version": "3.8.5"
  }
 },
 "nbformat": 4,
 "nbformat_minor": 4
}
