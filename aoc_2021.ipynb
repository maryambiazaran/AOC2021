{
 "cells": [
  {
   "cell_type": "code",
   "execution_count": 2,
   "metadata": {
    "scrolled": true
   },
   "outputs": [],
   "source": [
    "import requests,configparser\n",
    "def get_cookie():\n",
    "    config = configparser.ConfigParser()\n",
    "    config.read('secrets.txt')\n",
    "    cookie = config['session_info']['cookie']\n",
    "    return cookie\n",
    "def get_inputs(day):\n",
    "    cookie, day = get_cookie(), int(day)\n",
    "    headers = {'session': cookie}\n",
    "    url = f'https://adventofcode.com/2021/day/{day}/input'\n",
    "    session = requests.Session()\n",
    "    resp = session.get(url,cookies=headers)\n",
    "    return resp.text.split('\\n')[:-1]"
   ]
  },
  {
   "cell_type": "code",
   "execution_count": 3,
   "metadata": {
    "scrolled": false
   },
   "outputs": [
    {
     "name": "stdout",
     "output_type": "stream",
     "text": [
      "Part 1: 1482\n",
      "Part 2: 1518\n"
     ]
    }
   ],
   "source": [
    "# DAY1\n",
    "def count_increases(data,depth):\n",
    "    increases = 0\n",
    "    for i in range(depth,len(data)):\n",
    "        increases += 1 if data[i]>data[i-depth] else 0\n",
    "    return increases\n",
    "\n",
    "data_day1 = [int(x) for x in get_inputs(1) if x!='']\n",
    "print(f'Part 1: {count_increases(data_day1,1)}')\n",
    "print(f'Part 2: {count_increases(data_day1,3)}')"
   ]
  },
  {
   "cell_type": "code",
   "execution_count": 4,
   "metadata": {},
   "outputs": [
    {
     "name": "stdout",
     "output_type": "stream",
     "text": [
      "1938402\n",
      "1947878632\n"
     ]
    }
   ],
   "source": [
    "# DAY2\n",
    "class Submarine():\n",
    "    def __init__(self,h_pos,depth,has_aim=False,aim=0):\n",
    "        self.h_pos = h_pos\n",
    "        self.depth = depth\n",
    "        self.has_aim = has_aim\n",
    "        self.aim = aim\n",
    "    def forward(self,x):\n",
    "        self.h_pos += int(x)\n",
    "        self.depth += int(x)*self.aim\n",
    "    def down(self,x):\n",
    "        if self.has_aim:\n",
    "            self.aim += int(x)\n",
    "        else:\n",
    "            self.depth += int(x)\n",
    "    def up(self,x):\n",
    "        if self.has_aim:\n",
    "            self.aim -= int(x)\n",
    "        else:\n",
    "            self.depth -= int(x)\n",
    "    def take_command(self,command):\n",
    "        command_map = {'up': self.up, 'down':self.down, 'forward':self.forward}\n",
    "        directions = command.split(' ')    # e.g. direction = ['forward','2']\n",
    "        move_method = command_map.get(directions[0])\n",
    "        move_method(directions[1])\n",
    "    def get_position(self):\n",
    "        return (self.h_pos,self.depth)\n",
    "    def navigate(self,data):\n",
    "        for command in data:\n",
    "            self.take_command(command)\n",
    "        return self\n",
    "    def get_pos_multip(self):\n",
    "        print( self.h_pos*self.depth )\n",
    "\n",
    "data_day2 = get_inputs(2)\n",
    "d2p1 = Submarine(0,0)\n",
    "d2p1.navigate(data_day2).get_pos_multip()\n",
    "\n",
    "d2p2 = Submarine(0,0,True,0)\n",
    "d2p2.navigate(data_day2).get_pos_multip()"
   ]
  },
  {
   "cell_type": "code",
   "execution_count": 5,
   "metadata": {},
   "outputs": [
    {
     "name": "stdout",
     "output_type": "stream",
     "text": [
      "Part 1: 3895776\n",
      "Part 2: 7928162\n"
     ]
    }
   ],
   "source": [
    "# Day 3\n",
    "from statistics import mode\n",
    "data_day3 = get_inputs(3)\n",
    "\n",
    "def to_matrix(data):\n",
    "    counters = []\n",
    "    for l in data:\n",
    "        counters.append(list(l))\n",
    "    return counters\n",
    "\n",
    "def bin_diag(data, idx, most = 1, reduce=False):\n",
    "    L = len(data[0])\n",
    "    if len(data) == 1:\n",
    "        return sum([int(x)*(2**i) for i,x in enumerate(data[0][:idx-L-1:-1])])\n",
    "    if idx == len(data[0]):\n",
    "        return 0\n",
    "    \n",
    "    ones = [e[idx] for e in data].count('1')\n",
    "    if ones >= len(data)/2:\n",
    "        winner = '1' if most else '0'\n",
    "    else:\n",
    "        winner = '0' if most else '1'    \n",
    "    if reduce:\n",
    "        data = list(filter(lambda x: (x[idx] == winner), data))\n",
    "    \n",
    "    return int(winner)*(2**(L-idx-1))+bin_diag(data, idx+1, most, reduce)\n",
    "\n",
    "def to_decimal(l):\n",
    "    return sum([int(x)*(2**i) for i,x in enumerate(l[::-1])])\n",
    "\n",
    "# Part 1\n",
    "gamma = bin_diag(to_matrix(data_day3), 0, most = 1, reduce=False)\n",
    "epsilon = bin_diag(to_matrix(data_day3), 0, most = 0, reduce=False)\n",
    "print(f'Part 1: {gamma*epsilon}')\n",
    "\n",
    "# Part 2\n",
    "oxg = bin_diag(to_matrix(data_day3), 0, most = 1, reduce=True)\n",
    "co2 = bin_diag(to_matrix(data_day3), 0, most = 0, reduce=True)\n",
    "print(f'Part 2: {oxg*co2}')"
   ]
  },
  {
   "cell_type": "code",
   "execution_count": 9,
   "metadata": {
    "scrolled": true
   },
   "outputs": [
    {
     "name": "stdout",
     "output_type": "stream",
     "text": [
      "Part 1: 2745\n",
      "Part 2: 6594\n"
     ]
    }
   ],
   "source": [
    "# Day 4\n",
    "data_day4 = get_inputs(4)\n",
    "import re\n",
    "\n",
    "def solve_day4(data):\n",
    "    B = Bingo(data)\n",
    "    # Part 1\n",
    "    unmarked_totals, last_number = B.find_winnig_grid()\n",
    "    print(f'Part 1: {unmarked_totals*last_number}')\n",
    "    \n",
    "    # Part 2\n",
    "    unmarked_totals, last_number = B.find_last_winning_grid()\n",
    "    print(f'Part 2: {unmarked_totals*last_number}')\n",
    "\n",
    "def get_sequence(data):\n",
    "    sequence = [int(i) for i in data[0].split(',')]\n",
    "    return sequence\n",
    "\n",
    "def get_grids(data): \n",
    "    grids = []\n",
    "    N = len(re.findall(r'[\\d]+',data[2]))\n",
    "    row= 2\n",
    "    while row < len(data):\n",
    "        g = [[int(i) for i in re.split('[ ]+',data[j].strip())] for j in range(row,row+5)]\n",
    "        row += N+1\n",
    "        grids.append(g)\n",
    "    return grids\n",
    "\n",
    "class Bingo():\n",
    "    def __init__(self,data):\n",
    "        self.sequence = get_sequence(data)\n",
    "        self.grids = [Grid(g,self) for g in get_grids(data)]\n",
    "    \n",
    "    def find_winnig_grid(self):\n",
    "        # Find the grid that requires the smallest `winner_idx` in the sequence\n",
    "        L = min([(idx,grid.find_winner_idx()) for idx,grid in enumerate(self.grids)],key=lambda x:x[1])\n",
    "        return self.calculate_unmarked_total(L[0],L[1]),self.sequence[L[1]]\n",
    "    \n",
    "    def find_last_winning_grid(self):\n",
    "        # Find the grid that requires the largest `winner_idx` in the sequence\n",
    "        L = max([(idx,grid.find_winner_idx()) for idx,grid in enumerate(self.grids)],key=lambda x:x[1])\n",
    "        return self.calculate_unmarked_total(L[0],L[1]),self.sequence[L[1]]\n",
    "    \n",
    "    def calculate_unmarked_total(self,grid_idx,seq_idx):\n",
    "        return self.grids[grid_idx].sum_unmarked(seq_idx)\n",
    "\n",
    "class Grid():\n",
    "    def __init__(self,data,B):\n",
    "        self.grid = data\n",
    "        self.size = len(data)\n",
    "        self.B = B\n",
    "    \n",
    "    def get_rows(self):    return [(*i,) for i in self.grid]\n",
    "    def get_row(self,i):   return self.get_rows(i)\n",
    "    def get_cols(self):    return list(zip(*self.grid))\n",
    "    def get_col(self,i):   return self.get_cols(i)\n",
    "    \n",
    "    def find_winner_idx(self):\n",
    "        idx = 999\n",
    "        rows_and_cols = list(set().union(self.get_rows(), self.get_cols()))\n",
    "        for r in rows_and_cols:\n",
    "            w = check_for_win(r,self.B.sequence)\n",
    "            idx = w if (0<w<idx) else idx\n",
    "        return idx\n",
    "    \n",
    "    def sum_unmarked(self,idx):\n",
    "        s = 0\n",
    "        for row in self.get_rows():\n",
    "            s += sum([x for x in row if x not in self.B.sequence[:idx+1]])\n",
    "        return s\n",
    "        \n",
    "def check_for_win(l,sequence):\n",
    "    matches = [idx for idx, element in enumerate(sequence) if element in l]\n",
    "    if len(matches)==len(l):\n",
    "        return max(matches)\n",
    "    return -1\n",
    "\n",
    "solve_day4(data_day4)"
   ]
  }
 ],
 "metadata": {
  "kernelspec": {
   "display_name": "Python 3 (ipykernel)",
   "language": "python",
   "name": "python3"
  },
  "language_info": {
   "codemirror_mode": {
    "name": "ipython",
    "version": 3
   },
   "file_extension": ".py",
   "mimetype": "text/x-python",
   "name": "python",
   "nbconvert_exporter": "python",
   "pygments_lexer": "ipython3",
   "version": "3.10.0"
  }
 },
 "nbformat": 4,
 "nbformat_minor": 4
}
